{
 "cells": [
  {
   "cell_type": "markdown",
   "id": "2525fb2f",
   "metadata": {},
   "source": [
    "<div style=\"align: center; margin: 0; padding: 0; height: 250px;\">\n",
    "    <br>\n",
    "    <img src=\"https://storage.googleapis.com/kaggle-datasets-images/5227/7876/3d18388d350d2791f4121a232acce097/dataset-cover.jpg\" style=\"display:block; margin:auto; width:65%; height:100%;\">\n",
    "</div><br><br>\n",
    "\n",
    "<div style=\"letter-spacing:normal; opacity:1.;\">\n",
    "<!--   https://xkcd.com/color/rgb/   -->\n",
    "  <p style=\"text-align:center; background-color: lightsalmon; color: Jaguar; border-radius:10px; font-family:monospace; \n",
    "            line-height:1.4; font-size:32px; font-weight:bold; text-transform: uppercase; padding: 9px;\">\n",
    "            <strong>California Housing Prices Dataset</strong></p>  \n",
    "            \n",
    "  <p style=\"text-align:center; background-color:romance; color: Jaguar; border-radius:10px; font-family:monospace; \n",
    "            line-height:1.4; font-size:22px; font-weight:normal; text-transform: capitalize; padding: 5px;\"\n",
    "     >Machine Learning Engineer Module-1:<br>California Housing Prices Compute Weights<br><br></p>\n",
    "    \n",
    "  <div style=\"align: center;\">\n",
    "  <table style=\"text-align: center; background-color: romance; color: Jaguar; border-radius: 10px; font-family: monospace;\n",
    "                  line-height:1.4; font-size: 21px; font-weight: normal; text-transform: capitalize; padding: 5px; \n",
    "                  margin: 0 auto;\">\n",
    "    <tr><td style=\"text-align: left; padding-left: 0px;\"\n",
    "            > Exploratory Data Analysis (EDA) <span style=\"font-size: 16px;\"> </span></td></tr>\n",
    "    <tr><td style=\"text-align: left; padding-left: 0px;\"\n",
    "            > Linear Regression with Functions <span style=\"font-size: 16px;\">(Define Func: Implementation of Normal Equation for Compute Weights)</span></td></tr>\n",
    "  </table>\n",
    "  </div>\n",
    "\n",
    "</div>"
   ]
  },
  {
   "cell_type": "markdown",
   "id": "32a8b00d",
   "metadata": {},
   "source": [
    "**Dataset More Info**\n",
    "\n",
    "> https://www.kaggle.com/datasets/camnugent/california-housing-prices\n",
    "\n",
    "**About Dataset**\n",
    "\n",
    "**Context**\n",
    "\n",
    "This is the dataset used in the second chapter of Aurélien Géron's recent book 'Hands-On Machine learning with Scikit-Learn and TensorFlow'. It serves as an excellent introduction to implementing machine learning algorithms because it requires rudimentary data cleaning, has an easily understandable list of variables and sits at an optimal size between being to toyish and too cumbersome.\n",
    "\n",
    "The data contains information from the 1990 California census. So although it may not help you with predicting current housing prices like the Zillow Zestimate dataset, it does provide an accessible introductory dataset for teaching people about the basics of machine learning.\n",
    "\n",
    "**Content**\n",
    "\n",
    "The data pertains to the houses found in a given California district and some summary stats about them based on the 1990 census data. Be warned the data aren't cleaned so there are some preprocessing steps required! The columns are as follows, their names are pretty self explanitory:\n",
    "\n",
    "longitude\n",
    "\n",
    "latitude\n",
    "\n",
    "housing_median_age\n",
    "\n",
    "total_rooms\n",
    "\n",
    "total_bedrooms\n",
    "\n",
    "population\n",
    "\n",
    "households\n",
    "\n",
    "median_income\n",
    "\n",
    "median_house_value\n",
    "\n",
    "ocean_proximity\n",
    "\n",
    "**Acknowledgements**\n",
    "\n",
    "This data was initially featured in the following paper:\n",
    "\n",
    "Pace, R. Kelley, and Ronald Barry. \"Sparse spatial autoregressions.\" Statistics & Probability Letters 33.3 (1997): 291-297.\n",
    "\n",
    "and I encountered it in 'Hands-On Machine learning with Scikit-Learn and TensorFlow' by Aurélien Géron.\n",
    "\n",
    "Aurélien Géron wrote:\n",
    "\n",
    "This dataset is a modified version of the California Housing dataset available from:\n",
    "\n",
    "[Luís Torgo's page](http://www.dcc.fc.up.pt/~ltorgo/Regression/cal_housing.html) (University of Porto)\n",
    "\n",
    "**Inspiration**\n",
    "\n",
    "See my kernel on machine learning basics in R using this dataset, or venture over to the following link for a python based introductory tutorial:\n",
    "\n",
    "https://github.com/ageron/handson-ml/tree/master/datasets/housing\n",
    "\n",
    "\n",
    "[Download Data](https://raw.githubusercontent.com/alexeygrigorev/datasets/master/housing.csv)"
   ]
  },
  {
   "cell_type": "markdown",
   "id": "dab108c8",
   "metadata": {},
   "source": [
    "**TASK**\n",
    "\n",
    "### Set up the environment\n",
    "\n",
    "You need to install Python, NumPy, Pandas, Matplotlib and Seaborn. For that, you can the instructions from\n",
    "[06-environment.md](https://github.com/alexeygrigorev/mlbookcamp-code/blob/master/course-zoomcamp/01-intro/06-environment.md).\n",
    "\n",
    "## Submit the results\n",
    "\n",
    "* Submit your results here: https://forms.gle/jneGM91mzDZ23i8HA\n",
    "* You can submit your solution multiple times. In this case, only the last submission will be used \n",
    "* If your answer doesn't match options exactly, select the closest one\n",
    "\n",
    "\n",
    "## Deadline\n",
    "\n",
    "The deadline for submitting is 18 September 2023 (Monday), 23:00 CEST (Berlin time).\n",
    "\n",
    "After that, the form will be closed.\n",
    "\n",
    "Questions: https://github.com/DataTalksClub/machine-learning-zoomcamp/blob/master/cohorts/2023/01-intro/homework.md"
   ]
  },
  {
   "cell_type": "markdown",
   "id": "78138c11",
   "metadata": {},
   "source": [
    "<div style=\"letter-spacing:normal; opacity:1.;\">\n",
    "  <h1 style=\"text-align:center; background-color: lightsalmon; color: Jaguar; border-radius:10px; font-family:monospace; border-radius:20px;\n",
    "            line-height:1.4; font-size:32px; font-weight:bold; text-transform: uppercase; padding: 9px;\">\n",
    "            <strong>1. Import Libraries & Ingest Data</strong></h1>   \n",
    "</div>\n",
    "\n",
    "> ⚠️ Not Recommended conda `base` env, work on `venv`\n",
    "\n",
    "- https://docs.conda.io/projects/conda/en/4.6.0/_downloads/52a95608c49671267e40c689e0bc00ca/conda-cheatsheet.pdf\n",
    "\n",
    "```\n",
    "pip freeze > requirements.txt\n",
    "conda list -e > requirements.txt\n",
    "\n",
    "# new conda virtual environment\n",
    "conda create --name \"lin-reg\" python=3.10 jupyter -y\n",
    "conda activate \"lin-reg\"\n",
    "\n",
    "# install all package dependencies\n",
    "pip install -r requirements.txt\n",
    "conda install -c conda-forge --file=requirements.txt      # mostly not work\n",
    "conda install -c conda-forge pandas==2.0.2 -q -y\n",
    "\n",
    "# if The environment is inconsistent, try below\n",
    "conda update -n base -c defaults conda --force-reinstall\n",
    "conda install anaconda --force-reinstall\n",
    "\n",
    "```\n",
    "\n",
    "**You must use the `--no-deps` option in the pip install command in order to avoid bundling dependencies into your conda-package.**\n",
    "\n",
    "If you run pip install without the `--no-deps` option, pip will often install dependencies in your conda recipe and those dependencies will become part of your package. This wastes space in the package and `increases the risk of file overlap`, file clobbering, and broken packages.\n",
    "\n",
    "There might be cases where you want to install a package directly from a local directory or a specific location, without relying on the package indexes. In such situations, you can use the `--no-index` option to tell pip not to look for the package in any indexes.\n",
    "\n",
    "```\n",
    "- command1 & command2  # runs simultaneously\n",
    "- command1 ; command2  # runs sequentially\n",
    "- command1 && command2 # runs sequentially, runs command2 only if command1 succeeds\n",
    "- command1 || command2 # runs sequentially, runs command2 only if command1 fails\n",
    "```"
   ]
  },
  {
   "cell_type": "code",
   "execution_count": 1,
   "id": "12da05a2",
   "metadata": {},
   "outputs": [
    {
     "name": "stdout",
     "output_type": "stream",
     "text": [
      "Python 3.10.12\n"
     ]
    }
   ],
   "source": [
    "!python -V"
   ]
  },
  {
   "cell_type": "code",
   "execution_count": 2,
   "id": "7a942a4e",
   "metadata": {},
   "outputs": [
    {
     "name": "stdout",
     "output_type": "stream",
     "text": [
      "Overwriting requirements.txt\n"
     ]
    }
   ],
   "source": [
    "%%writefile requirements.txt \n",
    "# To get started with MLflow you'll need to install the appropriate Python package.\n",
    "\n",
    "# for parquet file\n",
    "pyarrow\n",
    "fastparquet\n",
    "# orjson is a fast, correct JSON library\n",
    "orjson\n",
    "numpy\n",
    "pandas\n",
    "matplotlib\n",
    "seaborn\n",
    "scipy\n",
    "tqdm\n",
    "joblib\n",
    "\n",
    "# ML Model packages\n",
    "scikit-learn\n",
    "xgboost\n",
    "optuna\n",
    "hyperopt\n",
    "\n",
    "# MLOPS experiment-tracking Packages\n",
    "mlflow\n",
    "wandb\n",
    "\n",
    "# MLOPS Orchestration Packages\n",
    "boto3\n",
    "prefect\n",
    "prefect-aws\n",
    "prefect-email\n",
    "\n",
    "# MLOPS Monitoring Packages\n",
    "evidently\n",
    "psycopg\n",
    "psycopg[binary]\n",
    "\n",
    "# Optionally\n",
    "requests\n",
    "# for py file parameter\n",
    "click\n",
    "# for code style\n",
    "black\n",
    "\n",
    "# Optionally\n",
    "jupyter\n",
    "ipykernel\n",
    "ipywidgets\n",
    "pipenv"
   ]
  },
  {
   "cell_type": "code",
   "execution_count": 3,
   "id": "662facc5",
   "metadata": {},
   "outputs": [],
   "source": [
    "# !pip install pyarrow fastparquet orjson pandas matplotlib seaborn tqdm requests scikit-learn xgboost optuna hyperopt\n",
    "# !pip install mlflow prefect prefect-email boto3 prefect-aws joblib evidently\n",
    "# !pip install psycopg psycopg[binary] pipenv jupyter ipykernel ipywidgets"
   ]
  },
  {
   "cell_type": "code",
   "execution_count": 4,
   "id": "63eff564",
   "metadata": {},
   "outputs": [
    {
     "name": "stdout",
     "output_type": "stream",
     "text": [
      "Platform: Windows\n",
      "Python  : 3.10.12\n",
      "Actv Env: lin-reg\n"
     ]
    }
   ],
   "source": [
    "import os, sys, platform, IPython.display\n",
    "\n",
    "# pip install --no-deps --no-index --force-reinstall --no-cache-dir --user\n",
    "# !{sys.executable} -m pip install -Uq -r requirements.txt --no-cache-dir --user\n",
    "# !jupyter nbextension enable --py widgetsnbextension\n",
    "\n",
    "# IPython.display.clear_output()\n",
    "print(\"Platform:\", platform.system())  # platform.platform()\n",
    "print(\"Python  :\", platform.python_version())  # sys.version\n",
    "print(\"Actv Env:\", os.getenv('CONDA_DEFAULT_ENV', 'Not Found Conda Env'))"
   ]
  },
  {
   "cell_type": "code",
   "execution_count": 5,
   "id": "81ffeeb2",
   "metadata": {},
   "outputs": [
    {
     "data": {
      "text/plain": [
       "0"
      ]
     },
     "execution_count": 5,
     "metadata": {},
     "output_type": "execute_result"
    }
   ],
   "source": [
    "import numpy as np\n",
    "import pandas as pd\n",
    "import matplotlib as mpl\n",
    "import matplotlib.pyplot as plt\n",
    "import seaborn as sns\n",
    "\n",
    "import statsmodels.api as sm\n",
    "# import scipy\n",
    "# import scipy.stats as stats\n",
    "# from scipy.sparse import hstack\n",
    "from scipy.stats import skew, norm, gamma, probplot\n",
    "\n",
    "from sklearn.feature_extraction import DictVectorizer\n",
    "from sklearn.preprocessing import OneHotEncoder\n",
    "# from sklearn.preprocessing import StandardScaler, MinMaxScaler, RobustScaler\n",
    "\n",
    "from sklearn.linear_model import LinearRegression, TweedieRegressor\n",
    "# from sklearn.linear_model import ElasticNet, Lasso, LassoCV, Ridge, RidgeCV\n",
    "# from sklearn.svm import LinearSVR\n",
    "from sklearn.ensemble import RandomForestRegressor\n",
    "# from sklearn.ensemble import GradientBoostingRegressor, ExtraTreesRegressor\n",
    "\n",
    "from sklearn.metrics import mean_squared_error, mean_absolute_error, r2_score\n",
    "# from sklearn.model_selection import GridSearchCV\n",
    "\n",
    "import xgboost as xgb\n",
    "\n",
    "# Hyperparameter Optimization with Tree-structured Parzen Estimator (TPE) algorithm\n",
    "import optuna\n",
    "from hyperopt import fmin, tpe, hp, STATUS_OK, Trials\n",
    "from hyperopt.pyll import scope\n",
    "\n",
    "import os\n",
    "import sys\n",
    "import pickle\n",
    "import zipfile\n",
    "# import boto3\n",
    "# import click\n",
    "# import pathlib\n",
    "# import argparse\n",
    "# import requests\n",
    "# import urllib.request\n",
    "from glob import glob\n",
    "# from tqdm import tqdm           # console-based\n",
    "# from tqdm.notebook import tqdm  # jupyter-based\n",
    "from tqdm.auto import tqdm        # automatically selects\n",
    "# tqdm._instances.clear()\n",
    "# Import joblib for model persistence\n",
    "# from joblib import load, dump\n",
    "\n",
    "# memory management performs garbage collection \n",
    "import gc\n",
    "gc.collect()"
   ]
  },
  {
   "cell_type": "code",
   "execution_count": 6,
   "id": "6fe8272b",
   "metadata": {},
   "outputs": [],
   "source": [
    "# Filter out FutureWarnings\n",
    "import warnings\n",
    "# warnings.simplefilter(action='ignore', category=FutureWarning)\n",
    "# warnings.filterwarnings(action=\"ignore\", message=\"FutureWarning: is_categorical_dtype*\")\n",
    "warnings.filterwarnings(action=\"ignore\", module=\"seaborn\", category=FutureWarning, message='(is_categorical_dtype is deprecated)')\n",
    "warnings.filterwarnings(action=\"ignore\", module=\"seaborn\", category=FutureWarning, message='(use_inf_as_na option is deprecated)')\n",
    "warnings.filterwarnings(action=\"ignore\", module=\"sklearn\", category=FutureWarning, message='(is_sparse is deprecated)')\n",
    "warnings.filterwarnings(action=\"ignore\", module=\"xgboost\", category=FutureWarning, message='(is_sparse is deprecated)')"
   ]
  },
  {
   "cell_type": "markdown",
   "id": "5f8600bb",
   "metadata": {},
   "source": [
    "### Question 1\n",
    "\n",
    "What's the version of Pandas that you installed?\n",
    "\n",
    "You can get the version information using the `__version__` field:\n",
    "\n",
    "```python\n",
    "pd.__version__\n",
    "```"
   ]
  },
  {
   "cell_type": "code",
   "execution_count": 7,
   "id": "6f378d8e",
   "metadata": {},
   "outputs": [
    {
     "data": {
      "text/plain": [
       "'2.1.0'"
      ]
     },
     "execution_count": 7,
     "metadata": {},
     "output_type": "execute_result"
    }
   ],
   "source": [
    "pd.__version__"
   ]
  },
  {
   "cell_type": "code",
   "execution_count": 8,
   "id": "712925f8",
   "metadata": {},
   "outputs": [
    {
     "name": "stdout",
     "output_type": "stream",
     "text": [
      "-----\n",
      "hyperopt            0.2.7\n",
      "matplotlib          3.7.2\n",
      "numpy               1.25.2\n",
      "optuna              3.3.0\n",
      "pandas              2.1.0\n",
      "scipy               1.11.2\n",
      "seaborn             0.12.2\n",
      "session_info        1.0.0\n",
      "sklearn             1.2.2\n",
      "statsmodels         0.14.0\n",
      "tqdm                4.66.1\n",
      "xgboost             1.7.6\n",
      "-----\n",
      "IPython             8.12.0\n",
      "jupyter_client      7.4.9\n",
      "jupyter_core        5.3.0\n",
      "jupyterlab          3.6.3\n",
      "notebook            6.5.4\n",
      "-----\n",
      "Python 3.10.12 | packaged by Anaconda, Inc. | (main, Jul  5 2023, 19:09:20) [MSC v.1916 64 bit (AMD64)]\n",
      "Windows-10-10.0.22621-SP0\n",
      "-----\n",
      "Session information updated at 2023-11-01 15:44\n"
     ]
    }
   ],
   "source": [
    "# !pip install session_info\n",
    "import session_info\n",
    "session_info.show(html=False)"
   ]
  },
  {
   "cell_type": "code",
   "execution_count": 9,
   "id": "e78613e6",
   "metadata": {},
   "outputs": [],
   "source": [
    "import os\n",
    "# Get the current working directory\n",
    "# current_dir = os.getcwd()\n",
    "\n",
    "# Create a new directory for storing data\n",
    "# os.makedirs('./data', exist_ok=True)\n",
    "# os.makedirs('./pycode', exist_ok=True)\n",
    "# os.makedirs('./output', exist_ok=True)\n",
    "# os.makedirs('./model', exist_ok=True)"
   ]
  },
  {
   "cell_type": "markdown",
   "id": "cb564b98",
   "metadata": {},
   "source": [
    "<div style=\"letter-spacing:normal; opacity:1.;\">\n",
    "  <h1 style=\"text-align:center; background-color: lightsalmon; color: Jaguar; border-radius:10px; font-family:monospace; border-radius:20px;\n",
    "            line-height:1.4; font-size:32px; font-weight:bold; text-transform: uppercase; padding: 9px;\">\n",
    "            <strong>2. Recognizing and Understanding Data</strong></h1>   \n",
    "</div>"
   ]
  },
  {
   "cell_type": "markdown",
   "id": "fada2c5e",
   "metadata": {},
   "source": [
    "### Getting the data \n",
    "\n",
    "For this homework, we'll use the California Housing Prices dataset. Download it from \n",
    "[here](https://raw.githubusercontent.com/alexeygrigorev/datasets/master/housing.csv).\n",
    "\n",
    "You can do it with wget:\n",
    "\n",
    "```bash\n",
    "wget https://raw.githubusercontent.com/alexeygrigorev/datasets/master/housing.csv\n",
    "```\n",
    "\n",
    "Or just open it with your browser and click \"Save as...\".\n",
    "\n",
    "Now read it with Pandas."
   ]
  },
  {
   "cell_type": "markdown",
   "id": "ebb5b120",
   "metadata": {},
   "source": [
    "### Ingest Data [wget](https://linuxways.net/centos/linux-wget-command-with-examples/) or [curl](https://daniel.haxx.se/blog/2020/09/10/store-the-curl-output-over-there/)"
   ]
  },
  {
   "cell_type": "code",
   "execution_count": 10,
   "id": "7e2a3fc1",
   "metadata": {},
   "outputs": [],
   "source": [
    "# Download the data\n",
    "!curl -Os --create-dirs --output-dir \"./data\" https://raw.githubusercontent.com/alexeygrigorev/datasets/master/housing.csv"
   ]
  },
  {
   "cell_type": "code",
   "execution_count": 11,
   "id": "044ce591",
   "metadata": {},
   "outputs": [
    {
     "data": {
      "text/plain": [
       "['data\\\\housing.csv']"
      ]
     },
     "execution_count": 11,
     "metadata": {},
     "output_type": "execute_result"
    }
   ],
   "source": [
    "glob('data/*.*')"
   ]
  },
  {
   "cell_type": "code",
   "execution_count": 12,
   "id": "c9984fe2",
   "metadata": {},
   "outputs": [],
   "source": [
    "# Read the data\n",
    "csv_filename = 'housing.csv'\n",
    "csv_filepath = f'data/{csv_filename}'\n",
    "\n",
    "# Read the CSV file\n",
    "df = pd.read_csv(csv_filepath, low_memory=False)"
   ]
  },
  {
   "cell_type": "code",
   "execution_count": 13,
   "id": "eed03057",
   "metadata": {},
   "outputs": [
    {
     "name": "stdout",
     "output_type": "stream",
     "text": [
      "Shape of DataFrame: (20640, 10)\n"
     ]
    },
    {
     "data": {
      "text/html": [
       "<div>\n",
       "<style scoped>\n",
       "    .dataframe tbody tr th:only-of-type {\n",
       "        vertical-align: middle;\n",
       "    }\n",
       "\n",
       "    .dataframe tbody tr th {\n",
       "        vertical-align: top;\n",
       "    }\n",
       "\n",
       "    .dataframe thead th {\n",
       "        text-align: right;\n",
       "    }\n",
       "</style>\n",
       "<table border=\"1\" class=\"dataframe\">\n",
       "  <thead>\n",
       "    <tr style=\"text-align: right;\">\n",
       "      <th></th>\n",
       "      <th>longitude</th>\n",
       "      <th>latitude</th>\n",
       "      <th>housing_median_age</th>\n",
       "      <th>total_rooms</th>\n",
       "      <th>total_bedrooms</th>\n",
       "      <th>population</th>\n",
       "      <th>households</th>\n",
       "      <th>median_income</th>\n",
       "      <th>median_house_value</th>\n",
       "      <th>ocean_proximity</th>\n",
       "    </tr>\n",
       "  </thead>\n",
       "  <tbody>\n",
       "    <tr>\n",
       "      <th>0</th>\n",
       "      <td>-122.23</td>\n",
       "      <td>37.88</td>\n",
       "      <td>41.0</td>\n",
       "      <td>880.0</td>\n",
       "      <td>129.0</td>\n",
       "      <td>322.0</td>\n",
       "      <td>126.0</td>\n",
       "      <td>8.3252</td>\n",
       "      <td>452600.0</td>\n",
       "      <td>NEAR BAY</td>\n",
       "    </tr>\n",
       "    <tr>\n",
       "      <th>1</th>\n",
       "      <td>-122.22</td>\n",
       "      <td>37.86</td>\n",
       "      <td>21.0</td>\n",
       "      <td>7099.0</td>\n",
       "      <td>1106.0</td>\n",
       "      <td>2401.0</td>\n",
       "      <td>1138.0</td>\n",
       "      <td>8.3014</td>\n",
       "      <td>358500.0</td>\n",
       "      <td>NEAR BAY</td>\n",
       "    </tr>\n",
       "    <tr>\n",
       "      <th>2</th>\n",
       "      <td>-122.24</td>\n",
       "      <td>37.85</td>\n",
       "      <td>52.0</td>\n",
       "      <td>1467.0</td>\n",
       "      <td>190.0</td>\n",
       "      <td>496.0</td>\n",
       "      <td>177.0</td>\n",
       "      <td>7.2574</td>\n",
       "      <td>352100.0</td>\n",
       "      <td>NEAR BAY</td>\n",
       "    </tr>\n",
       "    <tr>\n",
       "      <th>3</th>\n",
       "      <td>-122.25</td>\n",
       "      <td>37.85</td>\n",
       "      <td>52.0</td>\n",
       "      <td>1274.0</td>\n",
       "      <td>235.0</td>\n",
       "      <td>558.0</td>\n",
       "      <td>219.0</td>\n",
       "      <td>5.6431</td>\n",
       "      <td>341300.0</td>\n",
       "      <td>NEAR BAY</td>\n",
       "    </tr>\n",
       "    <tr>\n",
       "      <th>4</th>\n",
       "      <td>-122.25</td>\n",
       "      <td>37.85</td>\n",
       "      <td>52.0</td>\n",
       "      <td>1627.0</td>\n",
       "      <td>280.0</td>\n",
       "      <td>565.0</td>\n",
       "      <td>259.0</td>\n",
       "      <td>3.8462</td>\n",
       "      <td>342200.0</td>\n",
       "      <td>NEAR BAY</td>\n",
       "    </tr>\n",
       "  </tbody>\n",
       "</table>\n",
       "</div>"
      ],
      "text/plain": [
       "   longitude  latitude  housing_median_age  total_rooms  total_bedrooms  \\\n",
       "0    -122.23     37.88                41.0        880.0           129.0   \n",
       "1    -122.22     37.86                21.0       7099.0          1106.0   \n",
       "2    -122.24     37.85                52.0       1467.0           190.0   \n",
       "3    -122.25     37.85                52.0       1274.0           235.0   \n",
       "4    -122.25     37.85                52.0       1627.0           280.0   \n",
       "\n",
       "   population  households  median_income  median_house_value ocean_proximity  \n",
       "0       322.0       126.0         8.3252            452600.0        NEAR BAY  \n",
       "1      2401.0      1138.0         8.3014            358500.0        NEAR BAY  \n",
       "2       496.0       177.0         7.2574            352100.0        NEAR BAY  \n",
       "3       558.0       219.0         5.6431            341300.0        NEAR BAY  \n",
       "4       565.0       259.0         3.8462            342200.0        NEAR BAY  "
      ]
     },
     "execution_count": 13,
     "metadata": {},
     "output_type": "execute_result"
    }
   ],
   "source": [
    "print(\"Shape of DataFrame:\", df.shape)\n",
    "df.head()"
   ]
  },
  {
   "cell_type": "markdown",
   "id": "a347a187",
   "metadata": {},
   "source": [
    "### Question 2\n",
    "\n",
    "How many columns are in the dataset?\n",
    "\n",
    "- 10\n",
    "- 6560\n",
    "- 10989\n",
    "- 20640"
   ]
  },
  {
   "cell_type": "code",
   "execution_count": 19,
   "id": "365ac0bf",
   "metadata": {},
   "outputs": [
    {
     "data": {
      "text/plain": [
       "10"
      ]
     },
     "execution_count": 19,
     "metadata": {},
     "output_type": "execute_result"
    }
   ],
   "source": [
    "df.shape[1]"
   ]
  },
  {
   "cell_type": "markdown",
   "id": "69e6f058",
   "metadata": {},
   "source": [
    "### Question 3\n",
    "\n",
    "Which columns in the dataset have missing values?\n",
    "\n",
    "- `total_rooms`\n",
    "- `total_bedrooms`\n",
    "- both of the above\n",
    "- no empty columns in the dataset"
   ]
  },
  {
   "cell_type": "code",
   "execution_count": 14,
   "id": "bf1e3f04",
   "metadata": {},
   "outputs": [
    {
     "name": "stdout",
     "output_type": "stream",
     "text": [
      "<class 'pandas.core.frame.DataFrame'>\n",
      "RangeIndex: 20640 entries, 0 to 20639\n",
      "Data columns (total 10 columns):\n",
      " #   Column              Non-Null Count  Dtype  \n",
      "---  ------              --------------  -----  \n",
      " 0   longitude           20640 non-null  float64\n",
      " 1   latitude            20640 non-null  float64\n",
      " 2   housing_median_age  20640 non-null  float64\n",
      " 3   total_rooms         20640 non-null  float64\n",
      " 4   total_bedrooms      20433 non-null  float64\n",
      " 5   population          20640 non-null  float64\n",
      " 6   households          20640 non-null  float64\n",
      " 7   median_income       20640 non-null  float64\n",
      " 8   median_house_value  20640 non-null  float64\n",
      " 9   ocean_proximity     20640 non-null  object \n",
      "dtypes: float64(9), object(1)\n",
      "memory usage: 1.6+ MB\n"
     ]
    }
   ],
   "source": [
    "df.info()"
   ]
  },
  {
   "cell_type": "code",
   "execution_count": 17,
   "id": "4f4baef2",
   "metadata": {},
   "outputs": [
    {
     "data": {
      "text/plain": [
       "longitude               0\n",
       "latitude                0\n",
       "housing_median_age      0\n",
       "total_rooms             0\n",
       "total_bedrooms        207\n",
       "population              0\n",
       "households              0\n",
       "median_income           0\n",
       "median_house_value      0\n",
       "ocean_proximity         0\n",
       "dtype: int64"
      ]
     },
     "execution_count": 17,
     "metadata": {},
     "output_type": "execute_result"
    }
   ],
   "source": [
    "df.isna().sum()"
   ]
  },
  {
   "cell_type": "code",
   "execution_count": 21,
   "id": "7c4c650d",
   "metadata": {},
   "outputs": [
    {
     "data": {
      "text/plain": [
       "['total_bedrooms']"
      ]
     },
     "execution_count": 21,
     "metadata": {},
     "output_type": "execute_result"
    }
   ],
   "source": [
    "df.isna().sum()[df.isna().sum()>0].index.tolist()"
   ]
  },
  {
   "cell_type": "markdown",
   "id": "962e1a6c",
   "metadata": {},
   "source": [
    "### Question 4\n",
    "\n",
    "How many unique values does the `ocean_proximity` column have?\n",
    "\n",
    "- 3\n",
    "- 5\n",
    "- 7\n",
    "- 9"
   ]
  },
  {
   "cell_type": "code",
   "execution_count": 22,
   "id": "e2e63d8f",
   "metadata": {},
   "outputs": [
    {
     "data": {
      "text/plain": [
       "ocean_proximity\n",
       "<1H OCEAN     9136\n",
       "INLAND        6551\n",
       "NEAR OCEAN    2658\n",
       "NEAR BAY      2290\n",
       "ISLAND           5\n",
       "Name: count, dtype: int64"
      ]
     },
     "execution_count": 22,
     "metadata": {},
     "output_type": "execute_result"
    }
   ],
   "source": [
    "df.ocean_proximity.value_counts()"
   ]
  },
  {
   "cell_type": "code",
   "execution_count": 23,
   "id": "3ee81e53",
   "metadata": {},
   "outputs": [
    {
     "data": {
      "text/plain": [
       "5"
      ]
     },
     "execution_count": 23,
     "metadata": {},
     "output_type": "execute_result"
    }
   ],
   "source": [
    "df.ocean_proximity.nunique()"
   ]
  },
  {
   "cell_type": "code",
   "execution_count": 16,
   "id": "7837c3b8",
   "metadata": {},
   "outputs": [
    {
     "data": {
      "text/html": [
       "<div>\n",
       "<style scoped>\n",
       "    .dataframe tbody tr th:only-of-type {\n",
       "        vertical-align: middle;\n",
       "    }\n",
       "\n",
       "    .dataframe tbody tr th {\n",
       "        vertical-align: top;\n",
       "    }\n",
       "\n",
       "    .dataframe thead th {\n",
       "        text-align: right;\n",
       "    }\n",
       "</style>\n",
       "<table border=\"1\" class=\"dataframe\">\n",
       "  <thead>\n",
       "    <tr style=\"text-align: right;\">\n",
       "      <th></th>\n",
       "      <th>count</th>\n",
       "      <th>unique</th>\n",
       "      <th>top</th>\n",
       "      <th>freq</th>\n",
       "    </tr>\n",
       "  </thead>\n",
       "  <tbody>\n",
       "    <tr>\n",
       "      <th>ocean_proximity</th>\n",
       "      <td>20640</td>\n",
       "      <td>5</td>\n",
       "      <td>&lt;1H OCEAN</td>\n",
       "      <td>9136</td>\n",
       "    </tr>\n",
       "  </tbody>\n",
       "</table>\n",
       "</div>"
      ],
      "text/plain": [
       "                 count unique        top  freq\n",
       "ocean_proximity  20640      5  <1H OCEAN  9136"
      ]
     },
     "execution_count": 16,
     "metadata": {},
     "output_type": "execute_result"
    }
   ],
   "source": [
    "df.describe(include='O').T"
   ]
  },
  {
   "cell_type": "code",
   "execution_count": 15,
   "id": "5b166a71",
   "metadata": {},
   "outputs": [
    {
     "data": {
      "text/html": [
       "<div>\n",
       "<style scoped>\n",
       "    .dataframe tbody tr th:only-of-type {\n",
       "        vertical-align: middle;\n",
       "    }\n",
       "\n",
       "    .dataframe tbody tr th {\n",
       "        vertical-align: top;\n",
       "    }\n",
       "\n",
       "    .dataframe thead th {\n",
       "        text-align: right;\n",
       "    }\n",
       "</style>\n",
       "<table border=\"1\" class=\"dataframe\">\n",
       "  <thead>\n",
       "    <tr style=\"text-align: right;\">\n",
       "      <th></th>\n",
       "      <th>count</th>\n",
       "      <th>mean</th>\n",
       "      <th>std</th>\n",
       "      <th>min</th>\n",
       "      <th>25%</th>\n",
       "      <th>50%</th>\n",
       "      <th>75%</th>\n",
       "      <th>max</th>\n",
       "    </tr>\n",
       "  </thead>\n",
       "  <tbody>\n",
       "    <tr>\n",
       "      <th>longitude</th>\n",
       "      <td>20640.0</td>\n",
       "      <td>-119.569704</td>\n",
       "      <td>2.003532</td>\n",
       "      <td>-124.3500</td>\n",
       "      <td>-121.8000</td>\n",
       "      <td>-118.4900</td>\n",
       "      <td>-118.01000</td>\n",
       "      <td>-114.3100</td>\n",
       "    </tr>\n",
       "    <tr>\n",
       "      <th>latitude</th>\n",
       "      <td>20640.0</td>\n",
       "      <td>35.631861</td>\n",
       "      <td>2.135952</td>\n",
       "      <td>32.5400</td>\n",
       "      <td>33.9300</td>\n",
       "      <td>34.2600</td>\n",
       "      <td>37.71000</td>\n",
       "      <td>41.9500</td>\n",
       "    </tr>\n",
       "    <tr>\n",
       "      <th>housing_median_age</th>\n",
       "      <td>20640.0</td>\n",
       "      <td>28.639486</td>\n",
       "      <td>12.585558</td>\n",
       "      <td>1.0000</td>\n",
       "      <td>18.0000</td>\n",
       "      <td>29.0000</td>\n",
       "      <td>37.00000</td>\n",
       "      <td>52.0000</td>\n",
       "    </tr>\n",
       "    <tr>\n",
       "      <th>total_rooms</th>\n",
       "      <td>20640.0</td>\n",
       "      <td>2635.763081</td>\n",
       "      <td>2181.615252</td>\n",
       "      <td>2.0000</td>\n",
       "      <td>1447.7500</td>\n",
       "      <td>2127.0000</td>\n",
       "      <td>3148.00000</td>\n",
       "      <td>39320.0000</td>\n",
       "    </tr>\n",
       "    <tr>\n",
       "      <th>total_bedrooms</th>\n",
       "      <td>20433.0</td>\n",
       "      <td>537.870553</td>\n",
       "      <td>421.385070</td>\n",
       "      <td>1.0000</td>\n",
       "      <td>296.0000</td>\n",
       "      <td>435.0000</td>\n",
       "      <td>647.00000</td>\n",
       "      <td>6445.0000</td>\n",
       "    </tr>\n",
       "    <tr>\n",
       "      <th>population</th>\n",
       "      <td>20640.0</td>\n",
       "      <td>1425.476744</td>\n",
       "      <td>1132.462122</td>\n",
       "      <td>3.0000</td>\n",
       "      <td>787.0000</td>\n",
       "      <td>1166.0000</td>\n",
       "      <td>1725.00000</td>\n",
       "      <td>35682.0000</td>\n",
       "    </tr>\n",
       "    <tr>\n",
       "      <th>households</th>\n",
       "      <td>20640.0</td>\n",
       "      <td>499.539680</td>\n",
       "      <td>382.329753</td>\n",
       "      <td>1.0000</td>\n",
       "      <td>280.0000</td>\n",
       "      <td>409.0000</td>\n",
       "      <td>605.00000</td>\n",
       "      <td>6082.0000</td>\n",
       "    </tr>\n",
       "    <tr>\n",
       "      <th>median_income</th>\n",
       "      <td>20640.0</td>\n",
       "      <td>3.870671</td>\n",
       "      <td>1.899822</td>\n",
       "      <td>0.4999</td>\n",
       "      <td>2.5634</td>\n",
       "      <td>3.5348</td>\n",
       "      <td>4.74325</td>\n",
       "      <td>15.0001</td>\n",
       "    </tr>\n",
       "    <tr>\n",
       "      <th>median_house_value</th>\n",
       "      <td>20640.0</td>\n",
       "      <td>206855.816909</td>\n",
       "      <td>115395.615874</td>\n",
       "      <td>14999.0000</td>\n",
       "      <td>119600.0000</td>\n",
       "      <td>179700.0000</td>\n",
       "      <td>264725.00000</td>\n",
       "      <td>500001.0000</td>\n",
       "    </tr>\n",
       "  </tbody>\n",
       "</table>\n",
       "</div>"
      ],
      "text/plain": [
       "                      count           mean            std         min  \\\n",
       "longitude           20640.0    -119.569704       2.003532   -124.3500   \n",
       "latitude            20640.0      35.631861       2.135952     32.5400   \n",
       "housing_median_age  20640.0      28.639486      12.585558      1.0000   \n",
       "total_rooms         20640.0    2635.763081    2181.615252      2.0000   \n",
       "total_bedrooms      20433.0     537.870553     421.385070      1.0000   \n",
       "population          20640.0    1425.476744    1132.462122      3.0000   \n",
       "households          20640.0     499.539680     382.329753      1.0000   \n",
       "median_income       20640.0       3.870671       1.899822      0.4999   \n",
       "median_house_value  20640.0  206855.816909  115395.615874  14999.0000   \n",
       "\n",
       "                            25%          50%           75%          max  \n",
       "longitude             -121.8000    -118.4900    -118.01000    -114.3100  \n",
       "latitude                33.9300      34.2600      37.71000      41.9500  \n",
       "housing_median_age      18.0000      29.0000      37.00000      52.0000  \n",
       "total_rooms           1447.7500    2127.0000    3148.00000   39320.0000  \n",
       "total_bedrooms         296.0000     435.0000     647.00000    6445.0000  \n",
       "population             787.0000    1166.0000    1725.00000   35682.0000  \n",
       "households             280.0000     409.0000     605.00000    6082.0000  \n",
       "median_income            2.5634       3.5348       4.74325      15.0001  \n",
       "median_house_value  119600.0000  179700.0000  264725.00000  500001.0000  "
      ]
     },
     "execution_count": 15,
     "metadata": {},
     "output_type": "execute_result"
    }
   ],
   "source": [
    "df.describe().T"
   ]
  },
  {
   "cell_type": "markdown",
   "id": "4ba31fa3",
   "metadata": {},
   "source": [
    "<div style=\"letter-spacing:normal; opacity:1.;\">\n",
    "  <h1 style=\"text-align:center; background-color: lightsalmon; color: Jaguar; border-radius:10px; font-family:monospace; border-radius:20px;\n",
    "            line-height:1.4; font-size:32px; font-weight:bold; text-transform: uppercase; padding: 9px;\">\n",
    "            <strong>3. Exloratory Data Analysis</strong></h1>   \n",
    "</div>"
   ]
  },
  {
   "cell_type": "markdown",
   "id": "9bf60445",
   "metadata": {},
   "source": [
    "### Question 5\n",
    "\n",
    "What's the average value of the `median_house_value` for the houses located near the bay?\n",
    "\n",
    "- 49433\n",
    "- 124805\n",
    "- 259212\n",
    "- 380440"
   ]
  },
  {
   "cell_type": "code",
   "execution_count": 29,
   "id": "ffaf3f89",
   "metadata": {},
   "outputs": [
    {
     "data": {
      "text/plain": [
       "259212"
      ]
     },
     "execution_count": 29,
     "metadata": {},
     "output_type": "execute_result"
    }
   ],
   "source": [
    "df[df.ocean_proximity == 'NEAR BAY']['median_house_value'].mean().astype('int')"
   ]
  },
  {
   "cell_type": "code",
   "execution_count": 24,
   "metadata": {},
   "outputs": [
    {
     "data": {
      "text/html": [
       "<div>\n",
       "<style scoped>\n",
       "    .dataframe tbody tr th:only-of-type {\n",
       "        vertical-align: middle;\n",
       "    }\n",
       "\n",
       "    .dataframe tbody tr th {\n",
       "        vertical-align: top;\n",
       "    }\n",
       "\n",
       "    .dataframe thead th {\n",
       "        text-align: right;\n",
       "    }\n",
       "</style>\n",
       "<table border=\"1\" class=\"dataframe\">\n",
       "  <thead>\n",
       "    <tr style=\"text-align: right;\">\n",
       "      <th></th>\n",
       "      <th>min</th>\n",
       "      <th>mean</th>\n",
       "      <th>max</th>\n",
       "    </tr>\n",
       "    <tr>\n",
       "      <th>ocean_proximity</th>\n",
       "      <th></th>\n",
       "      <th></th>\n",
       "      <th></th>\n",
       "    </tr>\n",
       "  </thead>\n",
       "  <tbody>\n",
       "    <tr>\n",
       "      <th>&lt;1H OCEAN</th>\n",
       "      <td>17500.0</td>\n",
       "      <td>240084.285464</td>\n",
       "      <td>500001.0</td>\n",
       "    </tr>\n",
       "    <tr>\n",
       "      <th>INLAND</th>\n",
       "      <td>14999.0</td>\n",
       "      <td>124805.392001</td>\n",
       "      <td>500001.0</td>\n",
       "    </tr>\n",
       "    <tr>\n",
       "      <th>ISLAND</th>\n",
       "      <td>287500.0</td>\n",
       "      <td>380440.000000</td>\n",
       "      <td>450000.0</td>\n",
       "    </tr>\n",
       "    <tr>\n",
       "      <th>NEAR BAY</th>\n",
       "      <td>22500.0</td>\n",
       "      <td>259212.311790</td>\n",
       "      <td>500001.0</td>\n",
       "    </tr>\n",
       "    <tr>\n",
       "      <th>NEAR OCEAN</th>\n",
       "      <td>22500.0</td>\n",
       "      <td>249433.977427</td>\n",
       "      <td>500001.0</td>\n",
       "    </tr>\n",
       "  </tbody>\n",
       "</table>\n",
       "</div>"
      ],
      "text/plain": [
       "                      min           mean       max\n",
       "ocean_proximity                                   \n",
       "<1H OCEAN         17500.0  240084.285464  500001.0\n",
       "INLAND            14999.0  124805.392001  500001.0\n",
       "ISLAND           287500.0  380440.000000  450000.0\n",
       "NEAR BAY          22500.0  259212.311790  500001.0\n",
       "NEAR OCEAN        22500.0  249433.977427  500001.0"
      ]
     },
     "execution_count": 24,
     "metadata": {},
     "output_type": "execute_result"
    }
   ],
   "source": [
    "df.groupby('ocean_proximity')['median_house_value'].agg(['min', 'mean', 'max'])"
   ]
  },
  {
   "cell_type": "markdown",
   "id": "04d71d97",
   "metadata": {},
   "source": [
    "### Question 6\n",
    "\n",
    "1. Calculate the average of `total_bedrooms` column in the dataset.\n",
    "2. Use the `fillna` method to fill the missing values in `total_bedrooms` with the mean value from the previous step.\n",
    "3. Now, calculate the average of `total_bedrooms` again.\n",
    "4. Has it changed?\n",
    "\n",
    "Has it changed?\n",
    "\n",
    "> Hint: take into account only 3 digits after the decimal point.\n",
    "\n",
    "- Yes\n",
    "- No"
   ]
  },
  {
   "cell_type": "code",
   "execution_count": 30,
   "id": "8121461c",
   "metadata": {},
   "outputs": [
    {
     "data": {
      "text/plain": [
       "537.8705525375618"
      ]
     },
     "execution_count": 30,
     "metadata": {},
     "output_type": "execute_result"
    }
   ],
   "source": [
    "mean_bedrooms = df['total_bedrooms'].mean()\n",
    "mean_bedrooms"
   ]
  },
  {
   "cell_type": "code",
   "execution_count": 31,
   "id": "c00211f0",
   "metadata": {},
   "outputs": [
    {
     "data": {
      "text/plain": [
       "537.8705525375617"
      ]
     },
     "execution_count": 31,
     "metadata": {},
     "output_type": "execute_result"
    }
   ],
   "source": [
    "df['total_bedrooms'].fillna(mean_bedrooms).mean()"
   ]
  },
  {
   "cell_type": "markdown",
   "id": "f5248bda",
   "metadata": {},
   "source": [
    "**No, it's left the same.**"
   ]
  },
  {
   "cell_type": "markdown",
   "id": "1a4a674a",
   "metadata": {},
   "source": [
    "### Question 7\n",
    "\n",
    "1. Select all the options located on islands.\n",
    "2. Select only columns `housing_median_age`, `total_rooms`, `total_bedrooms`.\n",
    "3. Get the underlying NumPy array. Let's call it `X`.\n",
    "4. Compute matrix-matrix multiplication between the transpose of `X` and `X`. To get the transpose, use `X.T`. Let's call the result `XTX`.\n",
    "5. Compute the inverse of `XTX`.\n",
    "6. Create an array `y` with values `[950, 1300, 800, 1000, 1300]`.\n",
    "7. Multiply the inverse of `XTX` with the transpose of `X`, and then multiply the result by `y`. Call the result `w`.\n",
    "8. What's the value of the last element of `w`?\n",
    "\n",
    "> **Note**: You just implemented linear regression. We'll talk about it in the next lesson.\n",
    "\n",
    "- -1.4812\n",
    "- 0.001\n",
    "- 5.6992\n",
    "- 23.1233"
   ]
  },
  {
   "cell_type": "code",
   "execution_count": 36,
   "id": "a85dd688",
   "metadata": {},
   "outputs": [
    {
     "data": {
      "text/plain": [
       "(5,)"
      ]
     },
     "execution_count": 36,
     "metadata": {},
     "output_type": "execute_result"
    }
   ],
   "source": [
    "y = np.array([950, 1300, 800, 1000, 1300])\n",
    "y.shape"
   ]
  },
  {
   "cell_type": "code",
   "execution_count": 37,
   "metadata": {},
   "outputs": [
    {
     "data": {
      "text/html": [
       "<div>\n",
       "<style scoped>\n",
       "    .dataframe tbody tr th:only-of-type {\n",
       "        vertical-align: middle;\n",
       "    }\n",
       "\n",
       "    .dataframe tbody tr th {\n",
       "        vertical-align: top;\n",
       "    }\n",
       "\n",
       "    .dataframe thead th {\n",
       "        text-align: right;\n",
       "    }\n",
       "</style>\n",
       "<table border=\"1\" class=\"dataframe\">\n",
       "  <thead>\n",
       "    <tr style=\"text-align: right;\">\n",
       "      <th></th>\n",
       "      <th>housing_median_age</th>\n",
       "      <th>total_rooms</th>\n",
       "      <th>total_bedrooms</th>\n",
       "    </tr>\n",
       "  </thead>\n",
       "  <tbody>\n",
       "    <tr>\n",
       "      <th>8314</th>\n",
       "      <td>27.0</td>\n",
       "      <td>1675.0</td>\n",
       "      <td>521.0</td>\n",
       "    </tr>\n",
       "    <tr>\n",
       "      <th>8315</th>\n",
       "      <td>52.0</td>\n",
       "      <td>2359.0</td>\n",
       "      <td>591.0</td>\n",
       "    </tr>\n",
       "    <tr>\n",
       "      <th>8316</th>\n",
       "      <td>52.0</td>\n",
       "      <td>2127.0</td>\n",
       "      <td>512.0</td>\n",
       "    </tr>\n",
       "    <tr>\n",
       "      <th>8317</th>\n",
       "      <td>52.0</td>\n",
       "      <td>996.0</td>\n",
       "      <td>264.0</td>\n",
       "    </tr>\n",
       "    <tr>\n",
       "      <th>8318</th>\n",
       "      <td>29.0</td>\n",
       "      <td>716.0</td>\n",
       "      <td>214.0</td>\n",
       "    </tr>\n",
       "  </tbody>\n",
       "</table>\n",
       "</div>"
      ],
      "text/plain": [
       "      housing_median_age  total_rooms  total_bedrooms\n",
       "8314                27.0       1675.0           521.0\n",
       "8315                52.0       2359.0           591.0\n",
       "8316                52.0       2127.0           512.0\n",
       "8317                52.0        996.0           264.0\n",
       "8318                29.0        716.0           214.0"
      ]
     },
     "execution_count": 37,
     "metadata": {},
     "output_type": "execute_result"
    }
   ],
   "source": [
    "island_df = df[df.ocean_proximity == 'ISLAND']\n",
    "island_df = island_df[['housing_median_age', 'total_rooms', 'total_bedrooms']]\n",
    "island_df"
   ]
  },
  {
   "cell_type": "code",
   "execution_count": 38,
   "id": "e181f9fc",
   "metadata": {},
   "outputs": [
    {
     "data": {
      "text/plain": [
       "(5, 3)"
      ]
     },
     "execution_count": 38,
     "metadata": {},
     "output_type": "execute_result"
    }
   ],
   "source": [
    "X = island_df.values\n",
    "X.shape"
   ]
  },
  {
   "cell_type": "code",
   "execution_count": 41,
   "id": "b7fd0194",
   "metadata": {},
   "outputs": [
    {
     "data": {
      "text/plain": [
       "array([[  27.,   52.,   52.,   52.,   29.],\n",
       "       [1675., 2359., 2127.,  996.,  716.],\n",
       "       [ 521.,  591.,  512.,  264.,  214.]])"
      ]
     },
     "execution_count": 41,
     "metadata": {},
     "output_type": "execute_result"
    }
   ],
   "source": [
    "X.T"
   ]
  },
  {
   "cell_type": "code",
   "execution_count": 44,
   "id": "b11f8ce9",
   "metadata": {},
   "outputs": [
    {
     "data": {
      "text/plain": [
       "(3, 3)"
      ]
     },
     "execution_count": 44,
     "metadata": {},
     "output_type": "execute_result"
    }
   ],
   "source": [
    "XTX = X.T.dot(X)\n",
    "XTX.shape"
   ]
  },
  {
   "cell_type": "code",
   "execution_count": 45,
   "metadata": {},
   "outputs": [
    {
     "data": {
      "text/plain": [
       "array([[ 9.19403586e-04, -3.66412216e-05,  5.43072261e-05],\n",
       "       [-3.66412216e-05,  8.23303633e-06, -2.77534485e-05],\n",
       "       [ 5.43072261e-05, -2.77534485e-05,  1.00891325e-04]])"
      ]
     },
     "execution_count": 45,
     "metadata": {},
     "output_type": "execute_result"
    }
   ],
   "source": [
    "XTX_inv = np.linalg.inv(XTX)\n",
    "XTX_inv"
   ]
  },
  {
   "cell_type": "code",
   "execution_count": 46,
   "id": "3c68296d",
   "metadata": {},
   "outputs": [
    {
     "data": {
      "text/plain": [
       "array([23.12330961, -1.48124183,  5.69922946])"
      ]
     },
     "execution_count": 46,
     "metadata": {},
     "output_type": "execute_result"
    }
   ],
   "source": [
    "w = XTX_inv.dot(X.T).dot(y)  # (XTX_inv @ X.T) @ y\n",
    "w"
   ]
  },
  {
   "cell_type": "code",
   "execution_count": 47,
   "id": "a1f683e0",
   "metadata": {},
   "outputs": [
    {
     "data": {
      "text/plain": [
       "5.699229455065586"
      ]
     },
     "execution_count": 47,
     "metadata": {},
     "output_type": "execute_result"
    }
   ],
   "source": [
    "w[2]"
   ]
  },
  {
   "cell_type": "markdown",
   "id": "cc067792",
   "metadata": {},
   "source": [
    "> **Note**: we just implemented normal equation\n",
    "\n",
    "$$w = (X^T X)^{-1} X^T y$$"
   ]
  },
  {
   "cell_type": "markdown",
   "id": "eed7c4fd",
   "metadata": {},
   "source": [
    "## End of Project"
   ]
  }
 ],
 "metadata": {
  "kernelspec": {
   "display_name": "Python 3 (ipykernel)",
   "language": "python",
   "name": "python3"
  },
  "language_info": {
   "codemirror_mode": {
    "name": "ipython",
    "version": 3
   },
   "file_extension": ".py",
   "mimetype": "text/x-python",
   "name": "python",
   "nbconvert_exporter": "python",
   "pygments_lexer": "ipython3",
   "version": "3.10.12"
  },
  "toc": {
   "base_numbering": 1,
   "nav_menu": {},
   "number_sections": true,
   "sideBar": true,
   "skip_h1_title": false,
   "title_cell": "Table of Contents",
   "title_sidebar": "Contents",
   "toc_cell": false,
   "toc_position": {},
   "toc_section_display": true,
   "toc_window_display": false
  }
 },
 "nbformat": 4,
 "nbformat_minor": 5
}
